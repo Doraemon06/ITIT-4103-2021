{
 "cells": [
  {
   "cell_type": "markdown",
   "metadata": {},
   "source": [
    "### Name: Praveen Kumar Sahu\n",
    "### Roll No: 2018IMT-070\n",
    "### Course: Machine Learning Lab\n",
    "### Course Code: ITIT - 4107\n",
    "### Deadline : 25 September 2021"
   ]
  },
  {
   "cell_type": "markdown",
   "metadata": {},
   "source": [
    "Import necessary library"
   ]
  },
  {
   "cell_type": "code",
   "execution_count": 1,
   "metadata": {},
   "outputs": [
    {
     "name": "stderr",
     "output_type": "stream",
     "text": [
      "/home/povins/anaconda3/lib/python3.7/site-packages/statsmodels/tools/_testing.py:19: FutureWarning: pandas.util.testing is deprecated. Use the functions in the public API at pandas.testing instead.\n",
      "  import pandas.util.testing as tm\n"
     ]
    }
   ],
   "source": [
    "import numpy as np\n",
    "import matplotlib.pyplot as plt\n",
    "import seaborn as sns\n",
    "import idx2numpy\n",
    "from sklearn.metrics import classification_report"
   ]
  },
  {
   "cell_type": "markdown",
   "metadata": {},
   "source": [
    "Import the training and the testing data. Training data has 60,000 samples of handwritten digits and testing data has 10,000 sample. \n",
    "Here I used idx2numpy library to convert the idxubyte file into numpy array."
   ]
  },
  {
   "cell_type": "code",
   "execution_count": 2,
   "metadata": {},
   "outputs": [],
   "source": [
    "file_location = '/home/povins/Documents/notes/ml/assignments/dataset/mnist'\n",
    "x_train = idx2numpy.convert_from_file(file_location + '/train-images-idx3-ubyte')\n",
    "y_train = idx2numpy.convert_from_file(file_location + '/train-labels-idx1-ubyte')\n",
    "x_test = idx2numpy.convert_from_file(file_location + '/t10k-images-idx3-ubyte')\n",
    "y_test = idx2numpy.convert_from_file(file_location + '/t10k-labels-idx1-ubyte')"
   ]
  },
  {
   "cell_type": "markdown",
   "metadata": {},
   "source": [
    "Ensuring import data was same as the specified in the dataset source."
   ]
  },
  {
   "cell_type": "code",
   "execution_count": 3,
   "metadata": {},
   "outputs": [],
   "source": [
    "assert x_train.shape == (60000, 28, 28)\n",
    "assert y_train.shape == (60000, )\n",
    "assert x_test.shape == (10000, 28, 28)\n",
    "assert y_test.shape == (10000, )"
   ]
  },
  {
   "cell_type": "markdown",
   "metadata": {},
   "source": [
    "Taking random image from the dataset to ensure that data was imported successfully."
   ]
  },
  {
   "cell_type": "code",
   "execution_count": 4,
   "metadata": {
    "scrolled": false
   },
   "outputs": [
    {
     "data": {
      "image/png": "[encoded data removed]",
      "text/plain": [
       "<Figure size 432x288 with 1 Axes>"
      ]
     },
     "metadata": {
      "needs_background": "light"
     },
     "output_type": "display_data"
    }
   ],
   "source": [
    "a = np.random.randint(60000)\n",
    "plt.figure()\n",
    "plt.imshow(x_train[a])\n",
    "plt.show()"
   ]
  },
  {
   "cell_type": "markdown",
   "metadata": {},
   "source": [
    "Converting the 2-D images of the digit into 1-D vector for better handling of vector multiplication. And asserting if the shape of the 1-D matches the desired shape. "
   ]
  },
  {
   "cell_type": "code",
   "execution_count": 5,
   "metadata": {},
   "outputs": [],
   "source": [
    "x_flatten = x_train.reshape(x_train.shape[0], -1)\n",
    "assert x_flatten.shape == (60000, 784)"
   ]
  },
  {
   "cell_type": "markdown",
   "metadata": {},
   "source": [
    "Converting the grey scale image into binary image"
   ]
  },
  {
   "cell_type": "code",
   "execution_count": 6,
   "metadata": {
    "scrolled": true
   },
   "outputs": [],
   "source": [
    "x_binary = []\n",
    "for j in range(x_flatten.shape[0]):\n",
    "#     x_binary[j].append([1 if i >=1 else 0 for i in x_flatten[0]])\n",
    "    x_binary.append([1 if i >=1 else 0 for i in x_flatten[j]])\n",
    "\n",
    "    \n",
    "x_binary = np.array(x_binary)\n",
    "x_binary.reshape(x_flatten.shape[0], -1)\n",
    "assert x_binary.shape == (60000, 784)"
   ]
  },
  {
   "cell_type": "markdown",
   "metadata": {},
   "source": [
    "Taking random image from the binarized image to ensure that data was converted successfully."
   ]
  },
  {
   "cell_type": "code",
   "execution_count": 7,
   "metadata": {},
   "outputs": [
    {
     "data": {
      "image/png": "[encoded data removed]",
      "text/plain": [
       "<Figure size 432x288 with 1 Axes>"
      ]
     },
     "metadata": {
      "needs_background": "light"
     },
     "output_type": "display_data"
    }
   ],
   "source": [
    "a = np.random.randint(60000)\n",
    "plt.figure()\n",
    "plt.imshow(x_binary[a].reshape(28, 28), cmap='gray')\n",
    "plt.grid(False)"
   ]
  },
  {
   "cell_type": "code",
   "execution_count": 8,
   "metadata": {
    "scrolled": false
   },
   "outputs": [
    {
     "data": {
      "image/png": "[encoded data removed]",
      "text/plain": [
       "<Figure size 432x288 with 1 Axes>"
      ]
     },
     "metadata": {
      "needs_background": "light"
     },
     "output_type": "display_data"
    }
   ],
   "source": [
    "plt.figure()\n",
    "plt.imshow(x_flatten[a].reshape(28, 28), cmap='gray')\n",
    "plt.grid(False)"
   ]
  },
  {
   "cell_type": "markdown",
   "metadata": {},
   "source": [
    "## Calculating Prior for predicting the sample\n",
    "Counting the number samples for each of the classes/labels. And calculating the prior for predicting the smaple"
   ]
  },
  {
   "cell_type": "code",
   "execution_count": 9,
   "metadata": {},
   "outputs": [],
   "source": [
    "# classes_count list the number of label of each class\n",
    "classes, classes_count = np.unique(y_train, return_counts=True)\n",
    "prior = classes_count / len(y_train)\n",
    "number_of_classes = len(classes)"
   ]
  },
  {
   "cell_type": "code",
   "execution_count": 10,
   "metadata": {},
   "outputs": [
    {
     "data": {
      "text/plain": [
       "array([0.09871667, 0.11236667, 0.0993    , 0.10218333, 0.09736667,\n",
       "       0.09035   , 0.09863333, 0.10441667, 0.09751667, 0.09915   ])"
      ]
     },
     "execution_count": 10,
     "metadata": {},
     "output_type": "execute_result"
    }
   ],
   "source": [
    "prior"
   ]
  },
  {
   "cell_type": "markdown",
   "metadata": {},
   "source": [
    "Plotting the fequency of each of the class/label in the training dataset"
   ]
  },
  {
   "cell_type": "code",
   "execution_count": 11,
   "metadata": {},
   "outputs": [
    {
     "data": {
      "image/png": "[encoded data removed]",
      "text/plain": [
       "<Figure size 720x576 with 1 Axes>"
      ]
     },
     "metadata": {
      "needs_background": "light"
     },
     "output_type": "display_data"
    }
   ],
   "source": [
    "plt.figure(figsize=(10,8))\n",
    "sns.barplot(classes, classes_count, palette='BuGn')\n",
    "plt.show()"
   ]
  },
  {
   "cell_type": "markdown",
   "metadata": {},
   "source": [
    "Counting the number of times the pixel of image of same class was True, i.e. number of times the given value of pixel is true given that it belongs to particular class. i.e. P(x_0=1 | C)"
   ]
  },
  {
   "cell_type": "code",
   "execution_count": 12,
   "metadata": {
    "scrolled": true
   },
   "outputs": [],
   "source": [
    "count_pixel = np.zeros((10, x_binary.shape[1]), dtype=np.float64)\n",
    "for k, y_k in enumerate(np.unique(y_train)):\n",
    "    ind = np.where(y_k == y_train)\n",
    "    count_pixel[k] = np.sum(x_binary[ind], axis = 0)\n",
    "    \n",
    "# final_count is the total number of times the value of parrticular pixel is true through the whole dataset.\n",
    "final_count = np.sum(count_pixel, axis=0)"
   ]
  },
  {
   "cell_type": "markdown",
   "metadata": {},
   "source": [
    "## Defining function for calculating the Likelihood"
   ]
  },
  {
   "cell_type": "code",
   "execution_count": 13,
   "metadata": {},
   "outputs": [],
   "source": [
    "def likelihood(x, cnt, class_cnt):\n",
    "    like = []\n",
    "    for i in range(len(x)):\n",
    "        if x[i] == 1:\n",
    "            like.append(cnt[i]/class_cnt)\n",
    "        else:\n",
    "            like.append((class_cnt-cnt[i])/class_cnt)\n",
    "    return np.prod(like)\n",
    "\n",
    "\n",
    "def likelihood_with_smoothing(x, cnt, class_cnt):\n",
    "    like = []\n",
    "    for i in range(len(x)):\n",
    "        if x[i] == 1:\n",
    "            like.append((cnt[i]+1)/(class_cnt+2))\n",
    "        else:\n",
    "            like.append((class_cnt-cnt[i] + 1)/(class_cnt+2))\n",
    "    return np.prod(like)"
   ]
  },
  {
   "cell_type": "markdown",
   "metadata": {},
   "source": [
    "## Defining the predicting function\n",
    "P(C | x_0, x_1, x_2,......x_783) is equivalent to P(x_0, x_1, x_2,......x_783 | C )"
   ]
  },
  {
   "cell_type": "code",
   "execution_count": 14,
   "metadata": {},
   "outputs": [],
   "source": [
    "def predict(x):\n",
    "    return np.argmax([prior[k] * likelihood(x, count_pixel[k], classes_count[k]) for k in range(10)])\n",
    "\n",
    "def predict_with_smoothing(x):\n",
    "    return np.argmax([prior[k] * likelihood_with_smoothing(x, count_pixel[k], classes_count[k]) for k in range(10)])"
   ]
  },
  {
   "cell_type": "markdown",
   "metadata": {},
   "source": [
    "Asserting that tha predictive model is working fine by testing it with randomly comparing the output of the model to the respective class of the testing data"
   ]
  },
  {
   "cell_type": "code",
   "execution_count": 15,
   "metadata": {
    "scrolled": false
   },
   "outputs": [],
   "source": [
    "for i in range(10):\n",
    "    assert predict(x_binary[i]) == y_train[i]"
   ]
  },
  {
   "cell_type": "markdown",
   "metadata": {},
   "source": [
    "## Testing the model with the test dataset\n",
    "### Test function will take whole dataset as input and return the predicted output for each of the input.\n",
    "### 1.a Without smoothing\n"
   ]
  },
  {
   "cell_type": "code",
   "execution_count": 16,
   "metadata": {},
   "outputs": [],
   "source": [
    "def test(x, y):\n",
    "    x_test_flatten = x.reshape(x.shape[0], -1)\n",
    "    x_binary_test = []\n",
    "    for j in range(x_test_flatten.shape[0]):\n",
    "        x_binary_test.append([1 if i >=1 else 0 for i in x_test_flatten[j]])\n",
    "    x_binary_test = np.array(x_binary_test)\n",
    "    x_binary_test.reshape(x_test_flatten.shape[0], -1)\n",
    "    print(\"done binarization\")\n",
    "    y_pred = []\n",
    "    for i in range(10000):\n",
    "        y_pred.append(predict(x_binary_test[i]))\n",
    "    return y_pred"
   ]
  },
  {
   "cell_type": "code",
   "execution_count": 17,
   "metadata": {},
   "outputs": [
    {
     "name": "stdout",
     "output_type": "stream",
     "text": [
      "done binarization\n"
     ]
    }
   ],
   "source": [
    "y_hat = test(x_test, y_test)"
   ]
  },
  {
   "cell_type": "markdown",
   "metadata": {},
   "source": [
    "## Accuracy and the misclassification error rate of model without smoothing"
   ]
  },
  {
   "cell_type": "code",
   "execution_count": 18,
   "metadata": {
    "scrolled": false
   },
   "outputs": [
    {
     "name": "stdout",
     "output_type": "stream",
     "text": [
      "Accuracy of the model without smooting is 84.1%\n"
     ]
    }
   ],
   "source": [
    "count = 0;\n",
    "for i in range(10000):\n",
    "    if y_hat[i]==y_test[i]:\n",
    "        count+=1\n",
    "print(f'Accuracy of the model without smooting is {count*100/y_test.shape[0]}%')"
   ]
  },
  {
   "cell_type": "code",
   "execution_count": 19,
   "metadata": {},
   "outputs": [
    {
     "name": "stdout",
     "output_type": "stream",
     "text": [
      "              precision    recall  f1-score   support\n",
      "\n",
      "           0       0.90      0.90      0.90       981\n",
      "           1       0.96      0.90      0.93      1204\n",
      "           2       0.83      0.89      0.86       964\n",
      "           3       0.83      0.76      0.80      1106\n",
      "           4       0.81      0.83      0.82       955\n",
      "           5       0.70      0.82      0.75       769\n",
      "           6       0.89      0.89      0.89       952\n",
      "           7       0.85      0.92      0.88       943\n",
      "           8       0.78      0.76      0.77       995\n",
      "           9       0.84      0.75      0.79      1131\n",
      "\n",
      "    accuracy                           0.84     10000\n",
      "   macro avg       0.84      0.84      0.84     10000\n",
      "weighted avg       0.84      0.84      0.84     10000\n",
      "\n"
     ]
    }
   ],
   "source": [
    "print(classification_report(y_hat, y_test))"
   ]
  },
  {
   "cell_type": "markdown",
   "metadata": {},
   "source": [
    "### 1.b With smoothing "
   ]
  },
  {
   "cell_type": "code",
   "execution_count": 20,
   "metadata": {
    "scrolled": true
   },
   "outputs": [
    {
     "name": "stdout",
     "output_type": "stream",
     "text": [
      "done binarization\n"
     ]
    }
   ],
   "source": [
    "def test_2(x, y):\n",
    "    x_test_flatten = x.reshape(x.shape[0], -1)\n",
    "    x_binary_test = []\n",
    "    for j in range(x_test_flatten.shape[0]):\n",
    "        x_binary_test.append([1 if i >=1 else 0 for i in x_test_flatten[j]])\n",
    "    x_binary_test = np.array(x_binary_test)\n",
    "    x_binary_test.reshape(x_test_flatten.shape[0], -1)\n",
    "    print(\"done binarization\")\n",
    "    y_pred = []\n",
    "    for i in range(10000):\n",
    "        y_pred.append(predict_with_smoothing(x_binary_test[i]))\n",
    "    return y_pred\n",
    "\n",
    "y_hat_smoothing = test_2(x_test, y_test)"
   ]
  },
  {
   "cell_type": "markdown",
   "metadata": {},
   "source": [
    "## Accuracy and the misclassification error rate of model smoothing"
   ]
  },
  {
   "cell_type": "code",
   "execution_count": 21,
   "metadata": {},
   "outputs": [
    {
     "name": "stdout",
     "output_type": "stream",
     "text": [
      "Accuracy of the model without smooting is 84.13%\n"
     ]
    }
   ],
   "source": [
    "count_smoothing = 0;\n",
    "for i in range(10000):\n",
    "    if y_hat_smoothing[i]==y_test[i]:\n",
    "        count_smoothing+=1\n",
    "print(f'Accuracy of the model without smooting is {count_smoothing*100/y_test.shape[0]}%')"
   ]
  },
  {
   "cell_type": "code",
   "execution_count": 22,
   "metadata": {},
   "outputs": [
    {
     "name": "stdout",
     "output_type": "stream",
     "text": [
      "              precision    recall  f1-score   support\n",
      "\n",
      "           0       0.91      0.91      0.91       980\n",
      "           1       0.96      0.90      0.93      1204\n",
      "           2       0.83      0.89      0.86       958\n",
      "           3       0.84      0.76      0.80      1105\n",
      "           4       0.81      0.83      0.82       963\n",
      "           5       0.70      0.82      0.76       763\n",
      "           6       0.89      0.89      0.89       958\n",
      "           7       0.85      0.93      0.89       940\n",
      "           8       0.78      0.75      0.77      1004\n",
      "           9       0.84      0.75      0.79      1125\n",
      "\n",
      "    accuracy                           0.84     10000\n",
      "   macro avg       0.84      0.84      0.84     10000\n",
      "weighted avg       0.84      0.84      0.84     10000\n",
      "\n"
     ]
    }
   ],
   "source": [
    "print(classification_report(y_hat_smoothing, y_test))"
   ]
  }
 ],
 "metadata": {
  "kernelspec": {
   "display_name": "Python 3",
   "language": "python",
   "name": "python3"
  },
  "language_info": {
   "codemirror_mode": {
    "name": "ipython",
    "version": 3
   },
   "file_extension": ".py",
   "mimetype": "text/x-python",
   "name": "python",
   "nbconvert_exporter": "python",
   "pygments_lexer": "ipython3",
   "version": "3.7.3"
  }
 },
 "nbformat": 4,
 "nbformat_minor": 2
}
